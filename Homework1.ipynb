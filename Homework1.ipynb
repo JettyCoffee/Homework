{
 "cells": [
  {
   "cell_type": "markdown",
   "metadata": {},
   "source": [
    "1. 编写Python程序，打印\"数据科学与工程导论\"，并使用 print(chr(0x2605)) 语句将星星包围起来。"
   ]
  },
  {
   "cell_type": "code",
   "execution_count": 1,
   "metadata": {},
   "outputs": [
    {
     "name": "stdout",
     "output_type": "stream",
     "text": [
      "★ 数据科学与工程导论 ★\n"
     ]
    }
   ],
   "source": [
    "print(chr(0x2605) + \" 数据科学与工程导论 \" + chr(0x2605))"
   ]
  },
  {
   "cell_type": "markdown",
   "metadata": {},
   "source": [
    "    ★ 数据科学与工程导论 ★"
   ]
  },
  {
   "cell_type": "markdown",
   "metadata": {},
   "source": [
    "2. 写一个 Python 程序，输入 x, y, z 这三个数，将这三个数从小到大使用 print 函数打印出来。"
   ]
  },
  {
   "cell_type": "code",
   "execution_count": null,
   "metadata": {},
   "outputs": [],
   "source": [
    "x = int(input(\"请输入x: \"))\n",
    "y = int(input(\"请输入y: \"))\n",
    "z = int(input(\"请输入z: \"))\n",
    "\n",
    "numbers = [x, y, z]\n",
    "\n",
    "print(sorted(numbers))"
   ]
  },
  {
   "cell_type": "markdown",
   "metadata": {},
   "source": [
    "    Input: 6 9 5\n",
    "    Output: 5 6 9"
   ]
  },
  {
   "cell_type": "markdown",
   "metadata": {},
   "source": [
    "3. 写一个 Python 程序，有 w, x, y, z 四个数，将这四个数从大到小使用 print 函数打印出来。"
   ]
  },
  {
   "cell_type": "code",
   "execution_count": 2,
   "metadata": {},
   "outputs": [
    {
     "name": "stdout",
     "output_type": "stream",
     "text": [
      "[30, 20, 10, 1]\n"
     ]
    }
   ],
   "source": [
    "x = 10\n",
    "y = 20\n",
    "z = 30\n",
    "w = 1\n",
    "\n",
    "numbers = [x, y, z, w]\n",
    "\n",
    "print(sorted(numbers, reverse=True))"
   ]
  },
  {
   "cell_type": "markdown",
   "metadata": {},
   "source": [
    "    Output: [30, 20, 10, 1]"
   ]
  },
  {
   "cell_type": "markdown",
   "metadata": {},
   "source": [
    "4. 写一个 Python 程序，输出 1-100 中的所有奇数。"
   ]
  },
  {
   "cell_type": "code",
   "execution_count": 3,
   "metadata": {},
   "outputs": [
    {
     "name": "stdout",
     "output_type": "stream",
     "text": [
      "1\n",
      "3\n",
      "5\n",
      "7\n",
      "9\n",
      "11\n",
      "13\n",
      "15\n",
      "17\n",
      "19\n",
      "21\n",
      "23\n",
      "25\n",
      "27\n",
      "29\n",
      "31\n",
      "33\n",
      "35\n",
      "37\n",
      "39\n",
      "41\n",
      "43\n",
      "45\n",
      "47\n",
      "49\n",
      "51\n",
      "53\n",
      "55\n",
      "57\n",
      "59\n",
      "61\n",
      "63\n",
      "65\n",
      "67\n",
      "69\n",
      "71\n",
      "73\n",
      "75\n",
      "77\n",
      "79\n",
      "81\n",
      "83\n",
      "85\n",
      "87\n",
      "89\n",
      "91\n",
      "93\n",
      "95\n",
      "97\n",
      "99\n"
     ]
    }
   ],
   "source": [
    "for i in range(1, 100):\n",
    "    if i % 2 != 0:\n",
    "        print(i )"
   ]
  },
  {
   "cell_type": "markdown",
   "metadata": {},
   "source": [
    "    Output:1\n",
    "3\n",
    "5\n",
    "7\n",
    "9\n",
    "11\n",
    "13\n",
    "15\n",
    "17\n",
    "19\n",
    "21\n",
    "23\n",
    "25\n",
    "27\n",
    "29\n",
    "31\n",
    "33\n",
    "35\n",
    "37\n",
    "39\n",
    "41\n",
    "43\n",
    "45\n",
    "47\n",
    "49\n",
    "51\n",
    "53\n",
    "55\n",
    "57\n",
    "59\n",
    "61\n",
    "63\n",
    "65\n",
    "67\n",
    "69\n",
    "71\n",
    "73\n",
    "75\n",
    "77\n",
    "79\n",
    "81\n",
    "83\n",
    "85\n",
    "87\n",
    "89\n",
    "91\n",
    "93\n",
    "95\n",
    "97\n",
    "99\n"
   ]
  },
  {
   "cell_type": "markdown",
   "metadata": {},
   "source": [
    "5. 写一个 Python 程序，用 for 循环，求解 1 到 100 的和。"
   ]
  },
  {
   "cell_type": "code",
   "execution_count": 4,
   "metadata": {},
   "outputs": [
    {
     "name": "stdout",
     "output_type": "stream",
     "text": [
      "5050\n"
     ]
    }
   ],
   "source": [
    "total_sum = 0\n",
    "for i in range(1, 101):\n",
    "    total_sum += i\n",
    "\n",
    "print(total_sum)"
   ]
  },
  {
   "cell_type": "markdown",
   "metadata": {},
   "source": [
    "    Output:5050"
   ]
  },
  {
   "cell_type": "markdown",
   "metadata": {},
   "source": [
    "6. 写一个 Python 程序，分别用 for 和 while 循环实现对一个给定序列的倒排序输出。例如，给定 L=[1,2,3,4,5]，输出为 [5,4,3,2,1]。"
   ]
  },
  {
   "cell_type": "code",
   "execution_count": 5,
   "metadata": {},
   "outputs": [
    {
     "name": "stdout",
     "output_type": "stream",
     "text": [
      "[5, 4, 3, 2, 1]\n",
      "[5, 4, 3, 2, 1]\n"
     ]
    }
   ],
   "source": [
    "L = [1, 2, 3, 4, 5]\n",
    "\n",
    "reversed_L_for = []\n",
    "for i in range(len(L)-1, -1, -1):\n",
    "    reversed_L_for.append(L[i])\n",
    "print(reversed_L_for)\n",
    "\n",
    "reversed_L_while = []\n",
    "i = len(L) - 1\n",
    "while i >= 0:\n",
    "    reversed_L_while.append(L[i])\n",
    "    i -= 1\n",
    "print(reversed_L_while)"
   ]
  },
  {
   "cell_type": "markdown",
   "metadata": {},
   "source": [
    "    Output:[5, 4, 3, 2, 1]\n",
    "    [5, 4, 3, 2, 1]"
   ]
  },
  {
   "cell_type": "markdown",
   "metadata": {},
   "source": [
    "7. 写一个 Python 程序，判断一个输入的字符串 S 是否包含由两个或两个以上连续出现的相同字符组成的字符串。例如，abccccda 中就包含 cccc 这个由 4 个连续字符组成的字符串。"
   ]
  },
  {
   "cell_type": "code",
   "execution_count": null,
   "metadata": {},
   "outputs": [],
   "source": [
    "def if_continue_2chars(S):\n",
    "    for i in range(len(S) - 1):\n",
    "        if S[i] == S[i + 1]:\n",
    "            return True\n",
    "    return False\n",
    "\n",
    "S = input(\"Input S: \")\n",
    "if if_continue_2chars(S):\n",
    "    print(\"Yes\")\n",
    "else:\n",
    "    print(\"No\")"
   ]
  },
  {
   "cell_type": "markdown",
   "metadata": {},
   "source": [
    "    Input:dahsidhasaaa\n",
    "    Output:Yes"
   ]
  },
  {
   "cell_type": "markdown",
   "metadata": {},
   "source": [
    "8. 写一个 Python 程序，输入一个字符串 S，去掉其中所有的空格后输出。例如，“DataScience and Engineering”，去掉空格后为“DataScienceandEngineering”。"
   ]
  },
  {
   "cell_type": "code",
   "execution_count": null,
   "metadata": {},
   "outputs": [],
   "source": [
    "S = input(\"Input S: \")\n",
    "S_no_spaces = S.replace(\" \", \"\")\n",
    "print(S_no_spaces)"
   ]
  },
  {
   "cell_type": "markdown",
   "metadata": {},
   "source": [
    "    Input:DataScience and Engineering\n",
    "    Output:DataScienceandEngineering"
   ]
  },
  {
   "cell_type": "markdown",
   "metadata": {},
   "source": [
    "9. 请设计一个求 3 次方根的算法（不允许直接调用求方根的函数），并给出对应的 Python 程序。\n",
    "采用牛顿迭代法求解，迭代过程数学公式表示为：\n",
    "$ x_{n+1}=x_n-\\frac{f(x_n)}{f^{\\prime}(x_n)}$"
   ]
  },
  {
   "cell_type": "code",
   "execution_count": null,
   "metadata": {},
   "outputs": [],
   "source": [
    "def newton_cbrt(n, tolerance=1e-7, max_iterations=1000):\n",
    "    x = n\n",
    "    for _ in range(max_iterations):\n",
    "        next_x = x - (x**3 - n) / (3 * x**2)\n",
    "        if abs(next_x - x) < tolerance:\n",
    "            return next_x\n",
    "        x = next_x\n",
    "    return x\n",
    "\n",
    "n = float(input(\"Input: \"))\n",
    "cbrt_n = newton_cbrt(n)\n",
    "print(cbrt_n)"
   ]
  },
  {
   "cell_type": "markdown",
   "metadata": {},
   "source": [
    "    Input:1024\n",
    "    Output:10.079368399158986"
   ]
  },
  {
   "cell_type": "markdown",
   "metadata": {},
   "source": [
    "10. 写一个 Python 程序，给定一个常数 n（n>0），求 n 的阶乘，即 n!=1×2×...×(n-1)×n。例如，4!=24，5!=120。"
   ]
  },
  {
   "cell_type": "code",
   "execution_count": null,
   "metadata": {},
   "outputs": [],
   "source": [
    "def factorial(n):\n",
    "    if n == 0:\n",
    "        return 1\n",
    "    else:\n",
    "        return n * factorial(n - 1)\n",
    "\n",
    "n = int(input(\"Input: \"))\n",
    "if n > 0:\n",
    "    print(f\"{n}! = {factorial(n)}\")\n",
    "else:\n",
    "    print(\"Error\")"
   ]
  },
  {
   "cell_type": "markdown",
   "metadata": {},
   "source": [
    "    Input:4!\n",
    "    Output:24"
   ]
  }
 ],
 "metadata": {
  "kernelspec": {
   "display_name": "Python 3",
   "language": "python",
   "name": "python3"
  },
  "language_info": {
   "codemirror_mode": {
    "name": "ipython",
    "version": 3
   },
   "file_extension": ".py",
   "mimetype": "text/x-python",
   "name": "python",
   "nbconvert_exporter": "python",
   "pygments_lexer": "ipython3",
   "version": "3.11.4"
  }
 },
 "nbformat": 4,
 "nbformat_minor": 2
}
