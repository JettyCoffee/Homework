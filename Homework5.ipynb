{
 "cells": [
  {
   "cell_type": "markdown",
   "metadata": {},
   "source": [
    "0. 所有的题目结果中，给出SQL语句和执行结果。"
   ]
  },
  {
   "cell_type": "markdown",
   "metadata": {},
   "source": [
    "1. 在新数据库中新建一张 user 表,插入几条数据,属性包含:唯一标识(id),姓名(name)性别(sex).年龄(age).联系方式(phone)，数据如下：\n",
    "\n",
    "    ('John Doe', 'Male', 25, '123-456-7890')\n",
    "\n",
    "    ('Jane Smith', 'Female', 31, '987-654-3210')\n",
    "    \n",
    "    ('Bob Johnson', 'Male', 22, '555-123-4567')"
   ]
  },
  {
   "cell_type": "markdown",
   "metadata": {},
   "source": [
    "mysql> CREATE TABLE user(\n",
    "    -> id INT AUTO_INCREMENT PRIMARY KEY,\n",
    "    -> name VARCHAR(50),\n",
    "    -> sex VARCHAR(10),\n",
    "    -> age INT,\n",
    "    -> phone VARCHAR(15)\n",
    "    -> );\n",
    "Query OK, 0 rows affected (0.02 sec)\n",
    "\n",
    "mysql> INSERT INTO user (name, sex, age, phone) VALUES \n",
    "    -> ('John Doe', 'Male', 25, '123-456-7890'),\n",
    "    -> ('Jane Smith', 'Female', 31, '987-654-3210'),\n",
    "    -> ('Bob Johnson', 'Male', 22, '555-123-4567');\n",
    "Query OK, 3 rows affected (0.01 sec)\n",
    "Records: 3  Duplicates: 0  Warnings: 0"
   ]
  },
  {
   "cell_type": "markdown",
   "metadata": {},
   "source": [
    "2. 写出 SQL语句,查询 user 表中所有年龄在 20-30 范围内的用户"
   ]
  },
  {
   "cell_type": "markdown",
   "metadata": {},
   "source": [
    "mysql> SELECT * FROM user WHERE age BETWEEN 20 AND 30;\n",
    "+----+-------------+------+------+--------------+\n",
    "| id | name        | sex  | age  | phone        |\n",
    "+----+-------------+------+------+--------------+\n",
    "|  1 | John Doe    | Male |   25 | 123-456-7890 |\n",
    "|  3 | Bob Johnson | Male |   22 | 555-123-4567 |\n",
    "+----+-------------+------+------+--------------+\n",
    "2 rows in set (0.00 sec)"
   ]
  },
  {
   "cell_type": "markdown",
   "metadata": {},
   "source": [
    "3. 写出SQL语句，向user表中添加自己的个人信息，并添加几条和你姓名同姓的虚拟信息。"
   ]
  },
  {
   "cell_type": "markdown",
   "metadata": {},
   "source": [
    "mysql> INSERT INTO user (name, sex, age, phone) VALUES     \n",
    "    -> ('JettyCoffee', 'Male', 20, '272-353-44484'),       \n",
    "    -> ('JettyCoffee Doe', 'Non-binary', 28, '111-222-3333'), \n",
    "    -> ('JettyCoffee Son', 'Female', 24, '756-753-45464'); \n",
    "Query OK, 3 rows affected (0.00 sec)\n",
    "Records: 3  Duplicates: 0  Warnings: 0"
   ]
  },
  {
   "cell_type": "markdown",
   "metadata": {},
   "source": [
    "4. 写出 SQL语句,查询 user 表中年龄在 20-30 范围内,名字包含“你的姓氏”的用户,并按照年龄从大到小排序输出"
   ]
  },
  {
   "cell_type": "markdown",
   "metadata": {},
   "source": [
    "mysql> SELECT * FROM user WHERE age BETWEEN 20 AND 30 AND name LIKE 'JettyCoffee%' ORDER BY age DESC;\n",
    "+----+-----------------+------------+------+---------------+\n",
    "| id | name            | sex        | age  | phone         |\n",
    "+----+-----------------+------------+------+---------------+\n",
    "|  7 | JettyCoffee Doe | Non-binary |   28 | 111-222-3333  |\n",
    "|  8 | JettyCoffee Son | Female     |   24 | 756-753-45464 |\n",
    "|  6 | JettyCoffee     | Male       |   20 | 272-353-44484 |\n",
    "+----+-----------------+------------+------+---------------+\n",
    "3 rows in set (0.00 sec)"
   ]
  },
  {
   "cell_type": "markdown",
   "metadata": {},
   "source": [
    "5. 写出 SQL 语句,计算 user 表中所有用户的平均年龄"
   ]
  },
  {
   "cell_type": "markdown",
   "metadata": {},
   "source": [
    "mysql> SELECT AVG(age) AS average_age FROM user;\n",
    "+-------------+\n",
    "| average_age |\n",
    "+-------------+\n",
    "|     24.5714 |\n",
    "+-------------+\n",
    "1 row in set (0.00 sec)"
   ]
  },
  {
   "cell_type": "markdown",
   "metadata": {},
   "source": [
    "6. 新建两张表team 表(id,teamName)和score 表(id,teamid,userid,score)。其中score 表中的 teamid 为指向 team表id 的外键，userid 为指向 user表id的外键"
   ]
  },
  {
   "cell_type": "markdown",
   "metadata": {},
   "source": [
    "mysql> CREATE TABLE team (\n",
    "    ->id INT AUTO_INCREMENT PRIMARY KEY,\n",
    "    ->teamName VARCHAR(50)\n",
    "    ->);\n",
    "Query OK, 0 rows affected (0.01 sec)\n",
    "\n",
    "mysql> CREATE TABLE score (\n",
    "    -> id INT AUTO_INCREMENT PRIMARY KEY,\n",
    "    -> teamid INT,\n",
    "    -> userid INT,\n",
    "    -> score INT,\n",
    "    -> FOREIGN KEY (teamid) REFERENCES team(id),\n",
    "    -> FOREIGN KEY (userid) REFERENCES user(id)\n",
    "    );\n",
    "Query OK, 0 rows affected (0.02 sec)"
   ]
  },
  {
   "cell_type": "markdown",
   "metadata": {},
   "source": [
    "7. 在team表中和score表中插入合适的记录，写出 SQL语句,查询 teamName 为“ECNU”的队伍中，年龄小于 20 的用户们，结果不得为空。"
   ]
  },
  {
   "cell_type": "markdown",
   "metadata": {},
   "source": [
    "mysql> INSERT INTO team (teamName) VALUES\n",
    "    -> ('ECNU'), \n",
    "    -> ('SJTU');  \n",
    "Query OK, 2 rows affected (0.00 sec)\n",
    "Records: 2  Duplicates: 0  Warnings: 0\n",
    "\n",
    "mysql> INSERT INTO score (teamid, userid, score) VALUES \n",
    "    -> (1, 1, 10),  -- John Doe    \n",
    "    -> (1, 6, 20),  -- JettyCoffee \n",
    "    -> (1, 3, 15),  -- Bob Johnson                       \n",
    "    -> (2, 2, 5);   -- Jane Smith; \n",
    "Query OK, 4 rows affected (0.00 sec)"
   ]
  },
  {
   "cell_type": "markdown",
   "metadata": {},
   "source": [
    "8. 写出 SQL 语句,计算 teamName为“ECNU”的总分(假设 score 存在 null值,nul值默认为 0 加入计算)。"
   ]
  },
  {
   "cell_type": "markdown",
   "metadata": {},
   "source": [
    "mysql> SELECT SUM(COALESCE(s.score, 0)) AS total_score\n",
    "    -> FROM score s\n",
    "    -> JOIN team t ON s.teamid = t.id\n",
    "    -> WHERE t.teamName = 'ECNU';\n",
    "+-------------+\n",
    "| total_score |\n",
    "+-------------+\n",
    "|          45 |\n",
    "+-------------+\n",
    "1 row in set (0.00 sec)"
   ]
  },
  {
   "cell_type": "markdown",
   "metadata": {},
   "source": [
    "9. 写出SQL语句，删除user表中个人信息的记录。"
   ]
  },
  {
   "cell_type": "markdown",
   "metadata": {},
   "source": [
    "mysql> DELETE FROM score WHERE userid IN (SELECT id FROM user);\n",
    "Query OK, 5 rows affected (0.00 sec)\n",
    "\n",
    "mysql> DELETE FROM user;\n",
    "Query OK, 7 rows affected (0.00 sec)\n",
    "\n",
    "mysql> SELECT * FROM user;              \n",
    "Empty set (0.00 sec)\n",
    "\n",
    "mysql> SELECT * FROM score;\n",
    "Empty set (0.00 sec)"
   ]
  }
 ],
 "metadata": {
  "kernelspec": {
   "display_name": "Python 3",
   "language": "python",
   "name": "python3"
  },
  "language_info": {
   "name": "python",
   "version": "3.11.4"
  }
 },
 "nbformat": 4,
 "nbformat_minor": 2
}
