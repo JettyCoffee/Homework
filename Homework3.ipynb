{
 "cells": [
  {
   "cell_type": "markdown",
   "metadata": {},
   "source": [
    "1.编写 Python程序,判断输入a是否为质数"
   ]
  },
  {
   "cell_type": "code",
   "execution_count": 2,
   "metadata": {},
   "outputs": [
    {
     "name": "stdout",
     "output_type": "stream",
     "text": [
      "Test: 29 Result:True\n"
     ]
    }
   ],
   "source": [
    "def is_prime(a):\n",
    "    if a <= 1:\n",
    "        return False\n",
    "    for i in range(2, int(a**0.5) + 1):\n",
    "        if a % i == 0:\n",
    "            return False\n",
    "    return True\n",
    "\n",
    "# Example\n",
    "a = 29\n",
    "print(f\"Test: {a} Result:{is_prime(a)}\")"
   ]
  },
  {
   "cell_type": "markdown",
   "metadata": {},
   "source": [
    "Test: 29 Result:True"
   ]
  },
  {
   "cell_type": "markdown",
   "metadata": {},
   "source": [
    "2.用Python实现插入排序该算法，不允许直接调用插入排序函数，需要手动实现其逻辑过程。"
   ]
  },
  {
   "cell_type": "code",
   "execution_count": 4,
   "metadata": {},
   "outputs": [
    {
     "name": "stdout",
     "output_type": "stream",
     "text": [
      "[5, 6, 11, 12, 13]\n"
     ]
    }
   ],
   "source": [
    "def insertion_sort(arr):\n",
    "    for i in range(1, len(arr)):\n",
    "        key = arr[i]\n",
    "        j = i - 1\n",
    "        while j >= 0 and key < arr[j]:\n",
    "            arr[j + 1] = arr[j]\n",
    "            j -= 1\n",
    "        arr[j + 1] = key\n",
    "    return arr\n",
    "\n",
    "# Example\n",
    "arr = [12, 11, 13, 5, 6]\n",
    "sorted_arr = insertion_sort(arr)\n",
    "print(sorted_arr)"
   ]
  },
  {
   "cell_type": "markdown",
   "metadata": {},
   "source": [
    "Output:[5, 6, 11, 12, 13]"
   ]
  },
  {
   "cell_type": "markdown",
   "metadata": {},
   "source": [
    "3.用Python实现选择排序该算法，不允许直接调用插入排序函数，需要手动实现其逻辑过程。"
   ]
  },
  {
   "cell_type": "code",
   "execution_count": 5,
   "metadata": {},
   "outputs": [
    {
     "name": "stdout",
     "output_type": "stream",
     "text": [
      "[11, 12, 22, 25, 64]\n"
     ]
    }
   ],
   "source": [
    "def selection_sort(arr):\n",
    "    for i in range(len(arr)):\n",
    "        min_idx = i\n",
    "        for j in range(i+1, len(arr)):\n",
    "            if arr[j] < arr[min_idx]:\n",
    "                min_idx = j\n",
    "        arr[i], arr[min_idx] = arr[min_idx], arr[i]\n",
    "    return arr\n",
    "\n",
    "# Example usage\n",
    "arr = [64, 25, 12, 22, 11]\n",
    "sorted_arr = selection_sort(arr)\n",
    "print(sorted_arr)"
   ]
  },
  {
   "cell_type": "markdown",
   "metadata": {},
   "source": [
    "Output:[11, 12, 22, 25, 64]"
   ]
  },
  {
   "cell_type": "markdown",
   "metadata": {},
   "source": [
    "4.用Python实现快速排序该算法，不允许直接调用插入排序函数，需要手动实现其逻辑过程。"
   ]
  },
  {
   "cell_type": "code",
   "execution_count": 6,
   "metadata": {},
   "outputs": [
    {
     "name": "stdout",
     "output_type": "stream",
     "text": [
      "[1, 1, 2, 3, 6, 8, 10]\n"
     ]
    }
   ],
   "source": [
    "def quicksort(arr):\n",
    "    if len(arr) <= 1:\n",
    "        return arr\n",
    "    pivot = arr[len(arr) // 2]\n",
    "    left = [x for x in arr if x < pivot]\n",
    "    middle = [x for x in arr if x == pivot]\n",
    "    right = [x for x in arr if x > pivot]\n",
    "    return quicksort(left) + middle + quicksort(right)\n",
    "\n",
    "# Example usage\n",
    "arr = [3, 6, 8, 10, 1, 2, 1]\n",
    "sorted_arr = quicksort(arr)\n",
    "print(sorted_arr)"
   ]
  },
  {
   "cell_type": "markdown",
   "metadata": {},
   "source": [
    "Output:[1, 1, 2, 3, 6, 8, 10]"
   ]
  },
  {
   "cell_type": "markdown",
   "metadata": {},
   "source": [
    "5.使用 Python 随机生成三组长度递增的随机数列，长度分别为100、1000、10000，对生成的随机数组使用不同的排序算法，例如选择排序和归并排序，至少三种排序方法。对这些数列的数据排序，并分析不同排序算法在不同长度数列下的运行效果，例如运行时间等指标。"
   ]
  },
  {
   "cell_type": "code",
   "execution_count": 7,
   "metadata": {},
   "outputs": [
    {
     "name": "stdout",
     "output_type": "stream",
     "text": [
      "Selection Sort Time (100): 0.000000 seconds\n",
      "Selection Sort Time (1000): 0.011279 seconds\n",
      "Selection Sort Time (10000): 1.642781 seconds\n",
      "Quicksort Time (100: 0.000000 seconds\n",
      "Quicksort Time (1000): 0.000000 seconds\n",
      "Quicksort Time (10000: 0.011093 seconds\n",
      "Merge Sort Time (100): 0.000000 seconds\n",
      "Merge Sort Time (1000): 0.000000 seconds\n",
      "Merge Sort Time (10000): 0.016005 seconds\n"
     ]
    }
   ],
   "source": [
    "import random\n",
    "import time\n",
    "\n",
    "array_100 = [random.randint(0, 1000) for _ in range(100)]\n",
    "array_1000 = [random.randint(0, 1000) for _ in range(1000)]\n",
    "array_10000 = [random.randint(0, 1000) for _ in range(10000)]\n",
    "\n",
    "def merge_sort(arr):\n",
    "    if len(arr) <= 1:\n",
    "        return arr\n",
    "    mid = len(arr) // 2\n",
    "    left = merge_sort(arr[:mid])\n",
    "    right = merge_sort(arr[mid:])\n",
    "    return merge(left, right)\n",
    "\n",
    "def merge(left, right):\n",
    "    result = []\n",
    "    i = j = 0\n",
    "    while i < len(left) and j < len(right):\n",
    "        if left[i] < right[j]:\n",
    "            result.append(left[i])\n",
    "            i += 1\n",
    "        else:\n",
    "            result.append(right[j])\n",
    "            j += 1\n",
    "    result.extend(left[i:])\n",
    "    result.extend(right[j:])\n",
    "    return result\n",
    "\n",
    "def measure_time(sort_func, arr):\n",
    "    start_time = time.time()\n",
    "    sort_func(arr.copy())\n",
    "    end_time = time.time()\n",
    "    return end_time - start_time\n",
    "\n",
    "selection_sort_time_100 = measure_time(selection_sort, array_100)\n",
    "selection_sort_time_1000 = measure_time(selection_sort, array_1000)\n",
    "selection_sort_time_10000 = measure_time(selection_sort, array_10000)\n",
    "\n",
    "quicksort_time_100 = measure_time(quicksort, array_100)\n",
    "quicksort_time_1000 = measure_time(quicksort, array_1000)\n",
    "quicksort_time_10000 = measure_time(quicksort, array_10000)\n",
    "\n",
    "merge_sort_time_100 = measure_time(merge_sort, array_100)\n",
    "merge_sort_time_1000 = measure_time(merge_sort, array_1000)\n",
    "merge_sort_time_10000 = measure_time(merge_sort, array_10000)\n",
    "\n",
    "print(f\"Selection Sort Time (100): {selection_sort_time_100:.6f} seconds\")\n",
    "print(f\"Selection Sort Time (1000): {selection_sort_time_1000:.6f} seconds\")\n",
    "print(f\"Selection Sort Time (10000): {selection_sort_time_10000:.6f} seconds\")\n",
    "\n",
    "print(f\"Quicksort Time (100: {quicksort_time_100:.6f} seconds\")\n",
    "print(f\"Quicksort Time (1000): {quicksort_time_1000:.6f} seconds\")\n",
    "print(f\"Quicksort Time (10000: {quicksort_time_10000:.6f} seconds\")\n",
    "\n",
    "print(f\"Merge Sort Time (100): {merge_sort_time_100:.6f} seconds\")\n",
    "print(f\"Merge Sort Time (1000): {merge_sort_time_1000:.6f} seconds\")\n",
    "print(f\"Merge Sort Time (10000): {merge_sort_time_10000:.6f} seconds\")"
   ]
  },
  {
   "cell_type": "markdown",
   "metadata": {},
   "source": [
    "Output:\n",
    "Selection Sort Time (100): 0.000000 seconds\n",
    "Selection Sort Time (1000): 0.011279 seconds\n",
    "Selection Sort Time (10000): 1.642781 seconds\n",
    "Quicksort Time (100: 0.000000 seconds\n",
    "Quicksort Time (1000): 0.000000 seconds\n",
    "Quicksort Time (10000: 0.011093 seconds\n",
    "Merge Sort Time (100): 0.000000 seconds\n",
    "Merge Sort Time (1000): 0.000000 seconds\n",
    "Merge Sort Time (10000): 0.016005 seconds"
   ]
  },
  {
   "cell_type": "markdown",
   "metadata": {},
   "source": [
    "6.使用python代码获取当前系统时间"
   ]
  },
  {
   "cell_type": "code",
   "execution_count": 9,
   "metadata": {},
   "outputs": [
    {
     "name": "stdout",
     "output_type": "stream",
     "text": [
      "2024-10-15 13:06:49.690628\n"
     ]
    }
   ],
   "source": [
    "from datetime import datetime\n",
    "\n",
    "current_time = datetime.now()\n",
    "print(current_time)"
   ]
  },
  {
   "cell_type": "markdown",
   "metadata": {},
   "source": [
    "2024-10-15 13:06:49.690628"
   ]
  },
  {
   "cell_type": "markdown",
   "metadata": {},
   "source": [
    "7.homework/data文件夹下的stuGrade.csv文件中包含5位同学的学号、语文成绩、数学成绩和英语成绩，请先用记事本打开该文件，查看文件内容，然后编写Python程序，读取该文件，并计算出各科的平均成绩（保留2位小数）。"
   ]
  },
  {
   "cell_type": "code",
   "execution_count": 16,
   "metadata": {},
   "outputs": [
    {
     "name": "stdout",
     "output_type": "stream",
     "text": [
      "Average Scores:\n",
      "chinese    82.6\n",
      "math       81.0\n",
      "english    81.8\n",
      "dtype: float64\n",
      "Average scores written to my.txt\n"
     ]
    }
   ],
   "source": [
    "import pandas as pd\n",
    "df = pd.read_csv('stuGrade.csv')\n",
    "average_scores = df[['chinese', 'math', 'english']].mean().round(2)\n",
    "print(\"Average Scores:\")\n",
    "print(average_scores)\n",
    "with open('my.txt', 'w') as file:\n",
    "    file.write(\"Average Scores:\\n\")\n",
    "    file.write(average_scores.to_string())"
   ]
  },
  {
   "cell_type": "markdown",
   "metadata": {},
   "source": [
    "Average Scores:\n",
    "chinese    82.6\n",
    "math       81.0\n",
    "english    81.8"
   ]
  }
 ],
 "metadata": {
  "kernelspec": {
   "display_name": "Python 3",
   "language": "python",
   "name": "python3"
  },
  "language_info": {
   "codemirror_mode": {
    "name": "ipython",
    "version": 3
   },
   "file_extension": ".py",
   "mimetype": "text/x-python",
   "name": "python",
   "nbconvert_exporter": "python",
   "pygments_lexer": "ipython3",
   "version": "3.11.4"
  }
 },
 "nbformat": 4,
 "nbformat_minor": 2
}
